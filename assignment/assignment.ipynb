{
 "cells": [
  {
   "cell_type": "markdown",
   "metadata": {},
   "source": [
    "# Day 7: Numpy & Pandas HW\n",
    "\n",
    "# Instructions \n",
    "\n",
    "For the first part of tonight's assignment, we'll be solving problems by using `numpy`. Since `Pandas` is built on top of `numpy`, it's good to be familiar with `numpy` and know what it provides. Below, we'll ask that you solve questions **by using `numpy`**. While you could answer the questions below without using `numpy` arrays, the focus of these questions is for you to use `numpy` arrays and get familiar with their methods (there are a lot of them). Remember how fast they are compared to the `list` as an alternative! \n",
    "\n",
    "Additionally you will be solving a few more `pandas` problems to help solidify concepts you learned about in class today. Like `Day 6` we expect you will be able to finish all of this by our next class!\n",
    "\n",
    "As a final note, a lot of the questions below are kind of simplistic, and could possibly be written in a single line or two. As such, you might wonder why we're asking you to write functions for them, or why they are even questions at all. As you've hopefully found throughout this course, programming skills increase quite a bit simply through repetition, which is a majority of the reason we've asked you to write functions for each question below. After tonight, you will hopefully never forget that when we define a function in Python, it starts with `def my_func_name():`. In addition, these one off functions will get you exposure to some of the most common and useful methods available on a `numpy array`. \n"
   ]
  },
  {
   "cell_type": "markdown",
   "metadata": {},
   "source": [
    "# `Numpy` Problems:\n",
    "\n",
    "In our `numpy` problems today we will be making functions for each of our prompts using numpy arrays."
   ]
  },
  {
   "cell_type": "markdown",
   "metadata": {},
   "source": [
    "1. Write a function that takes in a one-dimensional `numpy array` and subtracts off the mean and divides by the standard deviation. Return the normalized array "
   ]
  },
  {
   "cell_type": "code",
   "execution_count": null,
   "metadata": {},
   "outputs": [],
   "source": []
  },
  {
   "cell_type": "markdown",
   "metadata": {},
   "source": [
    "2. Write a function that creates a `numpy array` of an inputted shape, filled with an inputted number. Your function should have three parameters - `num_cols`, `num_rows`, and `fill_value`. As an example, if I called your function with `num_cols=4`, `num_rows=3`, and `fill_value=2`, then your function should output a 3 by 4 array of 2s. Return the newly created array.  \n"
   ]
  },
  {
   "cell_type": "code",
   "execution_count": null,
   "metadata": {},
   "outputs": [],
   "source": []
  },
  {
   "cell_type": "markdown",
   "metadata": {},
   "source": [
    "3. Write a function that takes in a one-dimensional `numpy array`, an `int`, and a mathematical operator (either `+`, `-`, `/`, or `*`) as a string, and then performs the indicated operation on each element of the `array`, using the inputted `int`. For example, if I inputted a `numpy array`, 2, and `'*'`, you should multiply each element of the `array` by 2. If I inputted a `numpy array`, 5, and `'-'`, then you should subtract 5 from every element in the array. Return the resulting array. \n"
   ]
  },
  {
   "cell_type": "code",
   "execution_count": null,
   "metadata": {},
   "outputs": [],
   "source": []
  },
  {
   "cell_type": "markdown",
   "metadata": {},
   "source": [
    "4. Write a function that takes in two parameters that will denote the final shape of your array of random floating point numbers (so now you will potentially end up with a two-dimensional array). Name these parameters `num_rows` and `num_cols`. Make the two-dimensional array full of random floating point numbers between 0 and 1 (**Hint**: Check out `numpy.random.rand()`). Return the resulting array. \n"
   ]
  },
  {
   "cell_type": "code",
   "execution_count": null,
   "metadata": {},
   "outputs": [],
   "source": []
  },
  {
   "cell_type": "markdown",
   "metadata": {},
   "source": [
    "5. Write a function that will take in a one-dimensional `numpy array` and replace the maximum element in it with a `0`. Return the resulting array. \n"
   ]
  },
  {
   "cell_type": "code",
   "execution_count": null,
   "metadata": {},
   "outputs": [],
   "source": []
  },
  {
   "cell_type": "markdown",
   "metadata": {},
   "source": [
    "6. Write a function that takes in an `int`, creates a one-dimensional `numpy array` of the numbers from `0` up to (but not inclusive of) `int`, and then returns the cumulative sum of all those numbers. "
   ]
  },
  {
   "cell_type": "code",
   "execution_count": null,
   "metadata": {},
   "outputs": [],
   "source": []
  },
  {
   "cell_type": "markdown",
   "metadata": {},
   "source": [
    "7. Write a function that takes in two two-dimensional `numpy arrays` and performs element-wise multiplication between the two. You can assume that the two arrays are of the same size. Return the array resulting from the multiplication. \n"
   ]
  },
  {
   "cell_type": "code",
   "execution_count": null,
   "metadata": {},
   "outputs": [],
   "source": []
  },
  {
   "cell_type": "markdown",
   "metadata": {},
   "source": [
    "# Pandas Problems:"
   ]
  },
  {
   "cell_type": "markdown",
   "metadata": {},
   "source": [
    "We'll be working with the `wine` datasets that are located in the `data` folder in this day's directory. \n",
    "\n",
    "1) Read the `winequality-red.csv` data into a `DataFrame`, and the `winequality-white.csv` into another `DataFrame`.\n",
    "\n",
    "2) Double check that you've read them in right by using some of the attributes and methods available on `DataFrames` for getting a general sense of your data "
   ]
  },
  {
   "cell_type": "code",
   "execution_count": null,
   "metadata": {},
   "outputs": [],
   "source": []
  },
  {
   "cell_type": "markdown",
   "metadata": {},
   "source": [
    "3) I've decided that this month I want to stay away from wines with relatively high alcohol content. To do that, I'm going to avoid any wines that have a greater alcohol content than the mean alcohol content, and you're going to help me do this. To achieve this, let's do the following: \n",
    "\n",
    "  * Find the mean alcohol content, separately, for reds and whites.  \n",
    "  * Create a new column for each `DataFrame` (the reds and whites) indicates whether the `alcohol` content is greater than or less than the mean alcohol content (you will do this separately for `reds` and `whites`. **hint**: you can use `np.where()` for this.\n",
    "  * Group each data frame by `['quality', 'new column']` and save these results as a new mini `DataFrame`' (**don't forget to reset index**)\n",
    "  * Merge these two mini `DatFrames` together (like we did in class today) and compare the averages of the other columns between the `red` and `white` datasets.\n"
   ]
  },
  {
   "cell_type": "code",
   "execution_count": null,
   "metadata": {},
   "outputs": [],
   "source": []
  },
  {
   "cell_type": "markdown",
   "metadata": {},
   "source": [
    "4) Let's say that I want to get started on cutting back next month. This time, though, I want to focus on staying away from those wines with a high acidity. Specifically, I want to stay away from those wines that are in the above the median of the fixed acidity levels among **both** the red and white wines. You're now going to help me do this. To achieve this, let's do the following: \n",
    "\n",
    " * Create a variable in the `red wines` data called `type` and set the value as `'red'`\n",
    " * Create a variable in the `white wines` data called `type` and set the value as `'white'`\n",
    " * `Join` the red and white wine dataframes together (remember to use the correct `axis`)\n",
    " * Identify the median `fixed acidity` among all the data\n",
    " * Create a new column using `np.where()`, identify the rows into **above** the median or **below** the median bins based off their fixed acidity\n",
    " * Group the data by this newly created column identifying the average across all the other columns.\n",
    " * Group the data by `['type', 'new column']` and get a count, see which type of wine (red vs white) has more rows **above** the median.\n",
    " * Return back to me all those rows that are **below** the median in terms of fixed acidity. "
   ]
  },
  {
   "cell_type": "code",
   "execution_count": null,
   "metadata": {},
   "outputs": [],
   "source": []
  }
 ],
 "metadata": {
  "kernelspec": {
   "display_name": "Python 3",
   "language": "python",
   "name": "python3"
  },
  "language_info": {
   "codemirror_mode": {
    "name": "ipython",
    "version": 3
   },
   "file_extension": ".py",
   "mimetype": "text/x-python",
   "name": "python",
   "nbconvert_exporter": "python",
   "pygments_lexer": "ipython3",
   "version": "3.7.3"
  }
 },
 "nbformat": 4,
 "nbformat_minor": 4
}
