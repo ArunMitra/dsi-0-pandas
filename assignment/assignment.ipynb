{
 "cells": [
  {
   "cell_type": "markdown",
   "metadata": {},
   "source": [
    "# Pandas Problems:"
   ]
  },
  {
   "cell_type": "markdown",
   "metadata": {},
   "source": [
    "We'll be working with the `wine` datasets that are located in this directory. \n",
    "\n",
    "1) Read the `winequality-red.csv` data into a `DataFrame`, and the `winequality-white.csv` into another `DataFrame`."
   ]
  },
  {
   "cell_type": "code",
   "execution_count": null,
   "metadata": {},
   "outputs": [],
   "source": []
  },
  {
   "cell_type": "markdown",
   "metadata": {},
   "source": [
    "2) Double check that you've read them in right by using some of the attributes and methods available on `DataFrames` for getting a general sense of your data "
   ]
  },
  {
   "cell_type": "code",
   "execution_count": null,
   "metadata": {},
   "outputs": [],
   "source": []
  },
  {
   "cell_type": "markdown",
   "metadata": {},
   "source": [
    "3) Let's find wines with relatively low alcohol content.\n",
    "\n",
    "  * Find the mean alcohol content, separately, for reds and whites.  \n",
    "  * Create a new column for each `DataFrame` (the reds and whites) indicates whether the `alcohol` content is greater than or less than the mean alcohol content (you will do this separately for `reds` and `whites`. **hint**: you can use `np.where()` for this.\n",
    "  * Group each data frame by `['quality', 'new column']` and save these results as a new mini `DataFrame`' (**don't forget to reset index**)\n",
    "  * Merge these two mini `DatFrames` together (like we did in class today) and compare the averages of the other columns between the `red` and `white` datasets.\n"
   ]
  },
  {
   "cell_type": "code",
   "execution_count": null,
   "metadata": {},
   "outputs": [],
   "source": []
  },
  {
   "cell_type": "markdown",
   "metadata": {},
   "source": [
    "4) Let's say that I want to get started on cutting back next month. This time, though, I want to focus on staying away from those wines with a high acidity. Specifically, I want to stay away from those wines that are in the above the median of the fixed acidity levels among **both** the red and white wines.\n",
    "\n",
    " * Create a variable in the `red wines` data called `type` and set the value as `'red'`\n",
    " * Create a variable in the `white wines` data called `type` and set the value as `'white'`\n",
    " * `Join` the red and white wine dataframes together (remember to use the correct `axis`)\n",
    " * Identify the median `fixed acidity` among all the data\n",
    " * Create a new column using `np.where()`, identify the rows into **above** the median or **below** the median bins based off their fixed acidity\n",
    " * Group the data by this newly created column identifying the average across all the other columns.\n",
    " * Group the data by `['type', 'new column']` and get a count, see which type of wine (red vs white) has more rows **above** the median.\n",
    " * Return back to me all those rows that are **below** the median in terms of fixed acidity. "
   ]
  },
  {
   "cell_type": "code",
   "execution_count": null,
   "metadata": {},
   "outputs": [],
   "source": []
  }
 ],
 "metadata": {
  "kernelspec": {
   "display_name": "Python 3",
   "language": "python",
   "name": "python3"
  },
  "language_info": {
   "codemirror_mode": {
    "name": "ipython",
    "version": 3
   },
   "file_extension": ".py",
   "mimetype": "text/x-python",
   "name": "python",
   "nbconvert_exporter": "python",
   "pygments_lexer": "ipython3",
   "version": "3.7.6"
  }
 },
 "nbformat": 4,
 "nbformat_minor": 4
}
